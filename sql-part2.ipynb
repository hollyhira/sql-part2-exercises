{
    "metadata": {
        "kernelspec": {
            "name": "SQL",
            "display_name": "SQL",
            "language": "sql"
        },
        "language_info": {
            "name": "sql",
            "version": ""
        }
    },
    "nbformat_minor": 2,
    "nbformat": 4,
    "cells": [
        {
            "cell_type": "markdown",
            "source": [
                "# Exercises\n",
                "\n",
                "To get started with the exercises, go ahead and take a look at RideShareDB. This database was created with data from a dataset on [Kaggle](https://www.kaggle.com/fivethirtyeight/uber-pickups-in-new-york-city). The dataset was made using data obtained from the NYC Taxi and Limosine Commission or TLC. TLC tracks this data by base and even rideshare companies such as Uber and Lyft have assigned bases that each pickup must be attributed to. For the exercises, we will be using the `other-FHV-services-jan-july15` and `lyft` tables in RideShareDB. These tables include the data for each pickup attributed to a few other For-Hire Vehicles (FHV) services and Lyft. These tables do not include any data from Uber.\n",
                "\n",
                "## String Functions\n",
                "\n",
                "Write a query that returns the last 3 characters of the base name in `other-FHV-services-jan-july15`. Do you see anything that is a common abbreviation at the end of business names?"
            ],
            "metadata": {
                "azdata_cell_guid": "2b5a5976-8b51-4e24-a08d-234ef97f379a"
            },
            "attachments": {}
        },
        {
            "cell_type": "code",
            "source": [
                "USE RideShareDB\r\n",
                "SELECT TOP (5) * FROM other_FHV_services_jan_aug_2015\r\n",
                "\r\n",
                "SELECT TOP (20) RIGHT(Base_Name, 3) FROM other_FHV_services_jan_aug_2015"
            ],
            "metadata": {
                "azdata_cell_guid": "392f7b72-9acf-44a4-bb53-6c29090c5d75",
                "tags": [],
                "language": "sql"
            },
            "outputs": [
                {
                    "output_type": "display_data",
                    "data": {
                        "text/html": "(5 rows affected)"
                    },
                    "metadata": {}
                },
                {
                    "output_type": "display_data",
                    "data": {
                        "text/html": "(20 rows affected)"
                    },
                    "metadata": {}
                },
                {
                    "output_type": "display_data",
                    "data": {
                        "text/html": "Total execution time: 00:00:00.078"
                    },
                    "metadata": {}
                },
                {
                    "output_type": "execute_result",
                    "metadata": {},
                    "execution_count": 6,
                    "data": {
                        "application/vnd.dataresource+json": {
                            "schema": {
                                "fields": [
                                    {
                                        "name": "Base_Number"
                                    },
                                    {
                                        "name": "Base_Name"
                                    },
                                    {
                                        "name": "Pick_Up_Date"
                                    },
                                    {
                                        "name": "Number_of_Trips"
                                    },
                                    {
                                        "name": "Number_of_Vehicles"
                                    }
                                ]
                            },
                            "data": [
                                {
                                    "0": "B00013",
                                    "1": "LOVE CORP CAR INC",
                                    "2": "2015-01-01",
                                    "3": "26 ",
                                    "4": "17 "
                                },
                                {
                                    "0": "B00014",
                                    "1": "NY ONE CORP CAR INC",
                                    "2": "2015-01-01",
                                    "3": "45 ",
                                    "4": "24 "
                                },
                                {
                                    "0": "B00029",
                                    "1": "COMMUNITY CAR SVC CORP",
                                    "2": "2015-01-01",
                                    "3": "731 ",
                                    "4": "36 "
                                },
                                {
                                    "0": "B00053",
                                    "1": "CHARGE AND RIDE INC",
                                    "2": "2015-01-01",
                                    "3": "10 ",
                                    "4": "9 "
                                },
                                {
                                    "0": "B00095",
                                    "1": "LIBERTY CAR SERVICE INC.",
                                    "2": "2015-01-01",
                                    "3": "814 ",
                                    "4": "62 "
                                }
                            ]
                        },
                        "text/html": [
                            "<table>",
                            "<tr><th>Base_Number</th><th>Base_Name</th><th>Pick_Up_Date</th><th>Number_of_Trips</th><th>Number_of_Vehicles</th></tr>",
                            "<tr><td>B00013</td><td>LOVE CORP CAR INC</td><td>2015-01-01</td><td>26 </td><td>17 </td></tr>",
                            "<tr><td>B00014</td><td>NY ONE CORP CAR INC</td><td>2015-01-01</td><td>45 </td><td>24 </td></tr>",
                            "<tr><td>B00029</td><td>COMMUNITY CAR SVC CORP</td><td>2015-01-01</td><td>731 </td><td>36 </td></tr>",
                            "<tr><td>B00053</td><td>CHARGE AND RIDE INC</td><td>2015-01-01</td><td>10 </td><td>9 </td></tr>",
                            "<tr><td>B00095</td><td>LIBERTY CAR SERVICE INC.</td><td>2015-01-01</td><td>814 </td><td>62 </td></tr>",
                            "</table>"
                        ]
                    }
                },
                {
                    "output_type": "execute_result",
                    "metadata": {},
                    "execution_count": 6,
                    "data": {
                        "application/vnd.dataresource+json": {
                            "schema": {
                                "fields": [
                                    {
                                        "name": "(No column name)"
                                    }
                                ]
                            },
                            "data": [
                                {
                                    "0": "INC"
                                },
                                {
                                    "0": "INC"
                                },
                                {
                                    "0": "ORP"
                                },
                                {
                                    "0": "INC"
                                },
                                {
                                    "0": "NC."
                                },
                                {
                                    "0": "INC"
                                },
                                {
                                    "0": "NC."
                                },
                                {
                                    "0": "NC."
                                },
                                {
                                    "0": "DIO"
                                },
                                {
                                    "0": "RP."
                                },
                                {
                                    "0": "NC."
                                },
                                {
                                    "0": "INC"
                                },
                                {
                                    "0": "LTD"
                                },
                                {
                                    "0": "ORP"
                                },
                                {
                                    "0": "INC"
                                },
                                {
                                    "0": "NC."
                                },
                                {
                                    "0": "LLC"
                                },
                                {
                                    "0": "INC"
                                },
                                {
                                    "0": "NC."
                                },
                                {
                                    "0": "NC."
                                }
                            ]
                        },
                        "text/html": [
                            "<table>",
                            "<tr><th>(No column name)</th></tr>",
                            "<tr><td>INC</td></tr>",
                            "<tr><td>INC</td></tr>",
                            "<tr><td>ORP</td></tr>",
                            "<tr><td>INC</td></tr>",
                            "<tr><td>NC.</td></tr>",
                            "<tr><td>INC</td></tr>",
                            "<tr><td>NC.</td></tr>",
                            "<tr><td>NC.</td></tr>",
                            "<tr><td>DIO</td></tr>",
                            "<tr><td>RP.</td></tr>",
                            "<tr><td>NC.</td></tr>",
                            "<tr><td>INC</td></tr>",
                            "<tr><td>LTD</td></tr>",
                            "<tr><td>ORP</td></tr>",
                            "<tr><td>INC</td></tr>",
                            "<tr><td>NC.</td></tr>",
                            "<tr><td>LLC</td></tr>",
                            "<tr><td>INC</td></tr>",
                            "<tr><td>NC.</td></tr>",
                            "<tr><td>NC.</td></tr>",
                            "</table>"
                        ]
                    }
                }
            ],
            "execution_count": 6
        },
        {
            "cell_type": "markdown",
            "source": [
                "The number of trips and the number of pickups are both stored as strings in `other-FHV-services-jan-july15`. This is because the data provided included spaces in some of the numbers. Write a query that returns the location of spaces in both of these columns."
            ],
            "metadata": {
                "azdata_cell_guid": "6c206898-77f4-4357-8d17-33192980f45d"
            },
            "attachments": {}
        },
        {
            "cell_type": "code",
            "source": [
                ""
            ],
            "metadata": {
                "azdata_cell_guid": "3c810c3d-4e66-447b-8326-19e59d8a1b88",
                "language": "sql"
            },
            "outputs": [
                {
                    "output_type": "display_data",
                    "data": {
                        "text/html": "Commands completed successfully."
                    },
                    "metadata": {}
                },
                {
                    "output_type": "display_data",
                    "data": {
                        "text/html": "Total execution time: 00:00:00"
                    },
                    "metadata": {}
                }
            ],
            "execution_count": 9
        },
        {
            "cell_type": "markdown",
            "source": [
                "## Date Functions\n",
                "\n",
                "For ``other-FHV-services-jan-july15``, display the name of month of the pickup date and order in descending order. Is the result of this query what you expected?"
            ],
            "metadata": {
                "azdata_cell_guid": "b138ac53-9fff-4320-9ff1-08717873f2ee"
            },
            "attachments": {}
        },
        {
            "cell_type": "code",
            "source": [
                ""
            ],
            "metadata": {
                "azdata_cell_guid": "8abd404c-a360-4b10-8d6b-8b34ef763bc7",
                "tags": [],
                "language": "sql"
            },
            "outputs": [
                {
                    "output_type": "display_data",
                    "data": {
                        "text/html": "Commands completed successfully."
                    },
                    "metadata": {}
                },
                {
                    "output_type": "display_data",
                    "data": {
                        "text/html": "Total execution time: 00:00:00"
                    },
                    "metadata": {}
                }
            ],
            "execution_count": 10
        },
        {
            "cell_type": "markdown",
            "source": [
                "Using `other-FHV-services-jan-july15`, write a query that returns the day number of the pickup date and month name and orders it in ascending order by day number."
            ],
            "metadata": {
                "azdata_cell_guid": "aa6bf15c-b847-45f0-ba0d-79c7636c4578"
            },
            "attachments": {}
        },
        {
            "cell_type": "code",
            "source": [
                ""
            ],
            "metadata": {
                "azdata_cell_guid": "46dcd617-8dcf-4c15-b5fa-c0ec04f2bf29",
                "language": "sql"
            },
            "outputs": [
                {
                    "output_type": "display_data",
                    "data": {
                        "text/html": "Commands completed successfully."
                    },
                    "metadata": {}
                },
                {
                    "output_type": "display_data",
                    "data": {
                        "text/html": "Total execution time: 00:00:00"
                    },
                    "metadata": {}
                }
            ],
            "execution_count": 11
        },
        {
            "cell_type": "markdown",
            "source": [
                "## Aggregate Functions\n",
                "\n",
                "Write a query that returns the most easterly Lyft pickup."
            ],
            "metadata": {
                "azdata_cell_guid": "348342a2-6039-43b1-8461-841288deee94"
            },
            "attachments": {}
        },
        {
            "cell_type": "code",
            "source": [
                ""
            ],
            "metadata": {
                "azdata_cell_guid": "f2cb1b41-c92a-47ea-bd77-7bafd78af1d4",
                "tags": [],
                "language": "sql"
            },
            "outputs": [
                {
                    "output_type": "display_data",
                    "data": {
                        "text/html": "Commands completed successfully."
                    },
                    "metadata": {}
                },
                {
                    "output_type": "display_data",
                    "data": {
                        "text/html": "Total execution time: 00:00:00"
                    },
                    "metadata": {}
                }
            ],
            "execution_count": 12
        },
        {
            "cell_type": "markdown",
            "source": [
                "Write a query the returns the most northerly Lyft pickup."
            ],
            "metadata": {
                "azdata_cell_guid": "bd589862-044d-4909-8565-8aa4771d9c00"
            },
            "attachments": {}
        },
        {
            "cell_type": "code",
            "source": [
                ""
            ],
            "metadata": {
                "azdata_cell_guid": "189b7c25-0dfa-4ca0-a683-d402b3875abd",
                "language": "sql"
            },
            "outputs": [
                {
                    "output_type": "display_data",
                    "data": {
                        "text/html": "Commands completed successfully."
                    },
                    "metadata": {}
                },
                {
                    "output_type": "display_data",
                    "data": {
                        "text/html": "Total execution time: 00:00:00"
                    },
                    "metadata": {}
                }
            ],
            "execution_count": 13
        },
        {
            "cell_type": "markdown",
            "source": [
                "Using ``other-FHV-services-jan-july15``, write a query that connects the the base number and the base name in a string that uses the following format: base\\_number: base\\_name."
            ],
            "metadata": {
                "azdata_cell_guid": "674f8758-14bf-4712-b029-0ad0447617fb"
            },
            "attachments": {}
        },
        {
            "cell_type": "code",
            "source": [
                ""
            ],
            "metadata": {
                "azdata_cell_guid": "f6f4b247-63c0-4997-8769-204e37a55c08",
                "language": "sql"
            },
            "outputs": [
                {
                    "output_type": "display_data",
                    "data": {
                        "text/html": "Commands completed successfully."
                    },
                    "metadata": {}
                },
                {
                    "output_type": "display_data",
                    "data": {
                        "text/html": "Total execution time: 00:00:00"
                    },
                    "metadata": {}
                }
            ],
            "execution_count": 14
        }
    ]
}